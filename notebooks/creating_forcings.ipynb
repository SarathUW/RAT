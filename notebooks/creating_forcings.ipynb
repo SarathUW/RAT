{
 "cells": [
  {
   "cell_type": "code",
   "execution_count": 22,
   "id": "193ac258-9cd3-4589-a84b-4074c0394b2b",
   "metadata": {},
   "outputs": [],
   "source": [
    "import xarray as xr\n",
    "import numpy as np\n",
    "import pandas as pd\n",
    "\n",
    "from metsim import MetSim"
   ]
  },
  {
   "cell_type": "code",
   "execution_count": 23,
   "id": "c20396c0-d1e1-4201-b0b5-d4d67d3edd93",
   "metadata": {},
   "outputs": [],
   "source": [
    "# rest of the workflow\n",
    "dates = pd.date_range('1971/01/01', '1971/12/31')\n",
    "params = {\n",
    "    # Run parameters, timestep, start, and stop dates\n",
    "    'time_step'    : \"60\",       \n",
    "    'start'        : dates[0],\n",
    "    'stop'         : dates[-1],\n",
    "    # Where all of our input files are\n",
    "    'forcing'      : './input/green_river_forcing.nc',     \n",
    "    'domain'       : './input/green_river_domain.nc',\n",
    "    'state'        : './input/green_river_state.nc',\n",
    "    # The format of the forcing data\n",
    "    'forcing_fmt'  : 'netcdf',\n",
    "    # Specification of the output\n",
    "    'out_dir'      : './output',\n",
    "    'out_prefix': 'green_river',\n",
    "    # Scheduler to use for job management - see text above for more information\n",
    "    'scheduler'    : 'threading',\n",
    "    # This is analagous to the [chunks] section from the config file\n",
    "    'chunks'       : \n",
    "        {'hru': 3},\n",
    "    # This is analagous to the [forcing_vars] section from the config file\n",
    "    'forcing_vars' : \n",
    "        {'prcp' : 'prec', 'tmax': 't_max', 'tmin': 't_min'},\n",
    "    # This is analagous to the [state_vars] section from the config file\n",
    "    'state_vars'   : \n",
    "        {'prcp' : 'prec', 'tmax': 't_max', 'tmin': 't_min'},\n",
    "    # This is analagous to the [domain_vars] section from the config file\n",
    "    'domain_vars'  : \n",
    "        {'elevation': 'elev', 'latitude': 'lat', 'longitude': 'lon', 'mask': 'mask'}\n",
    "    }"
   ]
  },
  {
   "cell_type": "code",
   "execution_count": null,
   "id": "b2761e2c-07b8-401f-990f-14cb03c3d09a",
   "metadata": {},
   "outputs": [],
   "source": []
  }
 ],
 "metadata": {
  "kernelspec": {
   "display_name": "Python 3",
   "language": "python",
   "name": "python3"
  },
  "language_info": {
   "codemirror_mode": {
    "name": "ipython",
    "version": 3
   },
   "file_extension": ".py",
   "mimetype": "text/x-python",
   "name": "python",
   "nbconvert_exporter": "python",
   "pygments_lexer": "ipython3",
   "version": "3.7.7"
  }
 },
 "nbformat": 4,
 "nbformat_minor": 5
}
